{
  "cells": [
    {
      "cell_type": "code",
      "execution_count": 1,
      "metadata": {
        "id": "hl7YRVFjVleC"
      },
      "outputs": [],
      "source": [
        "#imports\n",
        "import numpy as np\n",
        "import pandas as pd\n",
        "import matplotlib.pyplot as plt\n",
        "from sklearn.ensemble import RandomForestClassifier\n",
        "from sklearn.model_selection import train_test_split\n",
        "from sklearn import neighbors, datasets, preprocessing\n",
        "from sklearn.metrics import accuracy_score\n",
        "from sklearn.metrics import classification_report\n",
        "from sklearn.svm import SVC\n"
      ]
    },
    {
      "cell_type": "code",
      "execution_count": 2,
      "metadata": {
        "id": "sCkXGJJzEwy0",
        "colab": {
          "base_uri": "https://localhost:8080/",
          "height": 73
        },
        "outputId": "ece9f9f7-1c2b-43d0-e63f-ee33ebdbaa43"
      },
      "outputs": [
        {
          "output_type": "display_data",
          "data": {
            "text/plain": [
              "<IPython.core.display.HTML object>"
            ],
            "text/html": [
              "\n",
              "     <input type=\"file\" id=\"files-110f421e-50f1-4db6-b4b8-6ae52bdd5ca0\" name=\"files[]\" multiple disabled\n",
              "        style=\"border:none\" />\n",
              "     <output id=\"result-110f421e-50f1-4db6-b4b8-6ae52bdd5ca0\">\n",
              "      Upload widget is only available when the cell has been executed in the\n",
              "      current browser session. Please rerun this cell to enable.\n",
              "      </output>\n",
              "      <script>// Copyright 2017 Google LLC\n",
              "//\n",
              "// Licensed under the Apache License, Version 2.0 (the \"License\");\n",
              "// you may not use this file except in compliance with the License.\n",
              "// You may obtain a copy of the License at\n",
              "//\n",
              "//      http://www.apache.org/licenses/LICENSE-2.0\n",
              "//\n",
              "// Unless required by applicable law or agreed to in writing, software\n",
              "// distributed under the License is distributed on an \"AS IS\" BASIS,\n",
              "// WITHOUT WARRANTIES OR CONDITIONS OF ANY KIND, either express or implied.\n",
              "// See the License for the specific language governing permissions and\n",
              "// limitations under the License.\n",
              "\n",
              "/**\n",
              " * @fileoverview Helpers for google.colab Python module.\n",
              " */\n",
              "(function(scope) {\n",
              "function span(text, styleAttributes = {}) {\n",
              "  const element = document.createElement('span');\n",
              "  element.textContent = text;\n",
              "  for (const key of Object.keys(styleAttributes)) {\n",
              "    element.style[key] = styleAttributes[key];\n",
              "  }\n",
              "  return element;\n",
              "}\n",
              "\n",
              "// Max number of bytes which will be uploaded at a time.\n",
              "const MAX_PAYLOAD_SIZE = 100 * 1024;\n",
              "\n",
              "function _uploadFiles(inputId, outputId) {\n",
              "  const steps = uploadFilesStep(inputId, outputId);\n",
              "  const outputElement = document.getElementById(outputId);\n",
              "  // Cache steps on the outputElement to make it available for the next call\n",
              "  // to uploadFilesContinue from Python.\n",
              "  outputElement.steps = steps;\n",
              "\n",
              "  return _uploadFilesContinue(outputId);\n",
              "}\n",
              "\n",
              "// This is roughly an async generator (not supported in the browser yet),\n",
              "// where there are multiple asynchronous steps and the Python side is going\n",
              "// to poll for completion of each step.\n",
              "// This uses a Promise to block the python side on completion of each step,\n",
              "// then passes the result of the previous step as the input to the next step.\n",
              "function _uploadFilesContinue(outputId) {\n",
              "  const outputElement = document.getElementById(outputId);\n",
              "  const steps = outputElement.steps;\n",
              "\n",
              "  const next = steps.next(outputElement.lastPromiseValue);\n",
              "  return Promise.resolve(next.value.promise).then((value) => {\n",
              "    // Cache the last promise value to make it available to the next\n",
              "    // step of the generator.\n",
              "    outputElement.lastPromiseValue = value;\n",
              "    return next.value.response;\n",
              "  });\n",
              "}\n",
              "\n",
              "/**\n",
              " * Generator function which is called between each async step of the upload\n",
              " * process.\n",
              " * @param {string} inputId Element ID of the input file picker element.\n",
              " * @param {string} outputId Element ID of the output display.\n",
              " * @return {!Iterable<!Object>} Iterable of next steps.\n",
              " */\n",
              "function* uploadFilesStep(inputId, outputId) {\n",
              "  const inputElement = document.getElementById(inputId);\n",
              "  inputElement.disabled = false;\n",
              "\n",
              "  const outputElement = document.getElementById(outputId);\n",
              "  outputElement.innerHTML = '';\n",
              "\n",
              "  const pickedPromise = new Promise((resolve) => {\n",
              "    inputElement.addEventListener('change', (e) => {\n",
              "      resolve(e.target.files);\n",
              "    });\n",
              "  });\n",
              "\n",
              "  const cancel = document.createElement('button');\n",
              "  inputElement.parentElement.appendChild(cancel);\n",
              "  cancel.textContent = 'Cancel upload';\n",
              "  const cancelPromise = new Promise((resolve) => {\n",
              "    cancel.onclick = () => {\n",
              "      resolve(null);\n",
              "    };\n",
              "  });\n",
              "\n",
              "  // Wait for the user to pick the files.\n",
              "  const files = yield {\n",
              "    promise: Promise.race([pickedPromise, cancelPromise]),\n",
              "    response: {\n",
              "      action: 'starting',\n",
              "    }\n",
              "  };\n",
              "\n",
              "  cancel.remove();\n",
              "\n",
              "  // Disable the input element since further picks are not allowed.\n",
              "  inputElement.disabled = true;\n",
              "\n",
              "  if (!files) {\n",
              "    return {\n",
              "      response: {\n",
              "        action: 'complete',\n",
              "      }\n",
              "    };\n",
              "  }\n",
              "\n",
              "  for (const file of files) {\n",
              "    const li = document.createElement('li');\n",
              "    li.append(span(file.name, {fontWeight: 'bold'}));\n",
              "    li.append(span(\n",
              "        `(${file.type || 'n/a'}) - ${file.size} bytes, ` +\n",
              "        `last modified: ${\n",
              "            file.lastModifiedDate ? file.lastModifiedDate.toLocaleDateString() :\n",
              "                                    'n/a'} - `));\n",
              "    const percent = span('0% done');\n",
              "    li.appendChild(percent);\n",
              "\n",
              "    outputElement.appendChild(li);\n",
              "\n",
              "    const fileDataPromise = new Promise((resolve) => {\n",
              "      const reader = new FileReader();\n",
              "      reader.onload = (e) => {\n",
              "        resolve(e.target.result);\n",
              "      };\n",
              "      reader.readAsArrayBuffer(file);\n",
              "    });\n",
              "    // Wait for the data to be ready.\n",
              "    let fileData = yield {\n",
              "      promise: fileDataPromise,\n",
              "      response: {\n",
              "        action: 'continue',\n",
              "      }\n",
              "    };\n",
              "\n",
              "    // Use a chunked sending to avoid message size limits. See b/62115660.\n",
              "    let position = 0;\n",
              "    do {\n",
              "      const length = Math.min(fileData.byteLength - position, MAX_PAYLOAD_SIZE);\n",
              "      const chunk = new Uint8Array(fileData, position, length);\n",
              "      position += length;\n",
              "\n",
              "      const base64 = btoa(String.fromCharCode.apply(null, chunk));\n",
              "      yield {\n",
              "        response: {\n",
              "          action: 'append',\n",
              "          file: file.name,\n",
              "          data: base64,\n",
              "        },\n",
              "      };\n",
              "\n",
              "      let percentDone = fileData.byteLength === 0 ?\n",
              "          100 :\n",
              "          Math.round((position / fileData.byteLength) * 100);\n",
              "      percent.textContent = `${percentDone}% done`;\n",
              "\n",
              "    } while (position < fileData.byteLength);\n",
              "  }\n",
              "\n",
              "  // All done.\n",
              "  yield {\n",
              "    response: {\n",
              "      action: 'complete',\n",
              "    }\n",
              "  };\n",
              "}\n",
              "\n",
              "scope.google = scope.google || {};\n",
              "scope.google.colab = scope.google.colab || {};\n",
              "scope.google.colab._files = {\n",
              "  _uploadFiles,\n",
              "  _uploadFilesContinue,\n",
              "};\n",
              "})(self);\n",
              "</script> "
            ]
          },
          "metadata": {}
        },
        {
          "output_type": "stream",
          "name": "stdout",
          "text": [
            "Saving air_quality.csv to air_quality.csv\n"
          ]
        }
      ],
      "source": [
        "from google.colab import files\n",
        "\n",
        "\n",
        "uploaded = files.upload()"
      ]
    },
    {
      "cell_type": "code",
      "execution_count": 3,
      "metadata": {
        "id": "XPUuJNicVleF"
      },
      "outputs": [],
      "source": [
        "#load dataset\n",
        "df = pd.read_csv('air_quality.csv')"
      ]
    },
    {
      "cell_type": "code",
      "execution_count": 4,
      "metadata": {
        "id": "9OCjjx7QVleF"
      },
      "outputs": [],
      "source": [
        "#select features and target\n",
        "X = df[['AQI','PM10','PM2_5','NO2','SO2','O3','Temperature','Humidity','WindSpeed']]\n",
        "\n",
        "y = df['HealthImpactClass']"
      ]
    },
    {
      "cell_type": "code",
      "execution_count": 5,
      "metadata": {
        "id": "NS5ta3irVleG"
      },
      "outputs": [],
      "source": [
        "X_train, X_test, y_train, y_test = train_test_split(X, y, test_size = 0.20)\n",
        "\n"
      ]
    },
    {
      "cell_type": "code",
      "execution_count": 6,
      "metadata": {
        "id": "S7nZVjzhVleH",
        "colab": {
          "base_uri": "https://localhost:8080/"
        },
        "outputId": "cda4ded3-701e-4976-e377-89ad0c6cc959"
      },
      "outputs": [
        {
          "output_type": "stream",
          "name": "stdout",
          "text": [
            "\n",
            "ACCURACY OF THE MODEL: 0.9062768701633706\n"
          ]
        }
      ],
      "source": [
        "# Random Forest Model\n",
        "clf = RandomForestClassifier(n_estimators = 100)\n",
        "\n",
        "\n",
        "clf.fit(X_train, y_train)\n",
        "\n",
        "\n",
        "y_pred = clf.predict(X_test)\n",
        "\n",
        "\n",
        "from sklearn import metrics\n",
        "print()\n",
        "\n",
        "\n",
        "print(\"ACCURACY OF THE MODEL:\", metrics.accuracy_score(y_test, y_pred))\n",
        "\n",
        "\n"
      ]
    },
    {
      "cell_type": "code",
      "execution_count": 7,
      "metadata": {
        "id": "o-wcGBuZ2jZs"
      },
      "outputs": [],
      "source": [
        "# SVM Model\n",
        "svm_clf = SVC(kernel='linear')\n",
        "svm_clf.fit(X_train, y_train)\n",
        "svm_y_pred = svm_clf.predict(X_test)\n",
        "\n",
        "print(\"ACCURACY OF THE SVM MODEL:\", metrics.accuracy_score(y_test, svm_y_pred))\n",
        "print(classification_report(y_test, svm_y_pred))"
      ]
    },
    {
      "cell_type": "code",
      "execution_count": 8,
      "metadata": {
        "id": "kxwApQ0wVleI"
      },
      "outputs": [],
      "source": [
        "counties = {\n",
        "    # Massachusetts\n",
        "    \"Barnstable\": {\"lat\": 41.7001, \"lon\": -70.2995},\n",
        "    \"Berkshire\": {\"lat\": 42.3118, \"lon\": -73.1822},\n",
        "    \"Bristol\": {\"lat\": 41.7938, \"lon\": -71.1449},\n",
        "    \"Dukes\": {\"lat\": 41.4253, \"lon\": -70.6693},\n",
        "    \"Essex\": {\"lat\": 42.6309, \"lon\": -70.7824},\n",
        "    \"Franklin\": {\"lat\": 42.5306, \"lon\": -72.6151},\n",
        "    \"Hampden\": {\"lat\": 42.1172, \"lon\": -72.6620},\n",
        "    \"Hampshire\": {\"lat\": 42.3471, \"lon\": -72.6624},\n",
        "    \"Middlesex\": {\"lat\": 42.4672, \"lon\": -71.2874},\n",
        "    \"Nantucket\": {\"lat\": 41.2835, \"lon\": -70.0995},\n",
        "    \"Norfolk\": {\"lat\": 42.1767, \"lon\": -71.1449},\n",
        "    \"Plymouth\": {\"lat\": 41.9948, \"lon\": -70.6929},\n",
        "    \"Suffolk\": {\"lat\": 42.3601, \"lon\": -71.0589},\n",
        "    \"Worcester\": {\"lat\": 42.3648, \"lon\": -71.8969}\n",
        "\n",
        "\n",
        "\n",
        "\n",
        "}\n"
      ]
    },
    {
      "cell_type": "code",
      "execution_count": 9,
      "metadata": {
        "id": "xDzvhcX6VleJ"
      },
      "outputs": [],
      "source": [
        "import requests\n",
        "\n",
        "API_KEY = \"bbabd92f03c0a823ab817bd070837aeb\"\n",
        "  # Replace with your API key\n",
        "\n",
        "def fetch_air_quality(lat, lon):\n",
        "    url = f\"http://api.openweathermap.org/data/2.5/air_pollution?lat={lat}&lon={lon}&appid={API_KEY}\"\n",
        "    response = requests.get(url)\n",
        "    return response.json()\n",
        "\n",
        "def fetch_weather(lat, lon):\n",
        "    url = f\"http://api.openweathermap.org/data/2.5/weather?lat={lat}&lon={lon}&appid={API_KEY}&units=metric\"\n",
        "    response = requests.get(url)\n",
        "    return response.json()\n",
        "\n",
        "\n"
      ]
    },
    {
      "cell_type": "code",
      "execution_count": 10,
      "metadata": {
        "id": "exrho7T5U4k-"
      },
      "outputs": [],
      "source": [
        "\n",
        "def scale_aqi_to_us(aqi):\n",
        "    \"\"\"\n",
        "    Linearly maps OpenWeather AQI (1–5) to U.S. AQI (0–500).\n",
        "    \"\"\"\n",
        "    if aqi == 1:\n",
        "        return 0 + (50 - 0) * (aqi - 1) / 4  # Good (0–50)\n",
        "    elif aqi == 2:\n",
        "        return 51 + (100 - 51) * (aqi - 2) / 4  # Fair (51–100)\n",
        "    elif aqi == 3:\n",
        "        return 101 + (150 - 101) * (aqi - 3) / 4  # Moderate (101–150)\n",
        "    elif aqi == 4:\n",
        "        return 151 + (200 - 151) * (aqi - 4) / 4  # Poor (151–200)\n",
        "    elif aqi == 5:\n",
        "        return 201 + (300 - 201) * (aqi - 5) / 4  # Very Poor (201–300)\n",
        "    else:\n",
        "        return None  # Handle unknown cases\n",
        "\n",
        "\n"
      ]
    },
    {
      "cell_type": "code",
      "execution_count": 11,
      "metadata": {
        "colab": {
          "base_uri": "https://localhost:8080/"
        },
        "id": "FHJm7mxBVleJ",
        "outputId": "d6bbc4a3-3797-450a-cadb-634bf6f3a04c"
      },
      "outputs": [
        {
          "output_type": "stream",
          "name": "stdout",
          "text": [
            "        county   AQI  PM10  PM2_5   NO2   SO2     O3  Temperature  Humidity  \\\n",
            "0   Barnstable  51.0  5.55   4.96  1.00  0.24  92.98        13.63        97   \n",
            "1    Berkshire  51.0  1.31   1.27  4.76  0.16  73.67        11.31        95   \n",
            "2      Bristol  51.0  4.59   4.18  1.61  0.24  90.12        15.78        95   \n",
            "3        Dukes  51.0  6.03   5.11  0.66  0.25  92.98        14.59        90   \n",
            "4        Essex  51.0  2.30   2.17  7.80  1.07  80.11        13.97        98   \n",
            "5     Franklin  51.0  1.59   1.47  8.14  0.22  62.23         7.02        97   \n",
            "6      Hampden  51.0  1.53   1.38  7.11  0.43  74.39         4.32        98   \n",
            "7    Hampshire  51.0  1.40   1.26  7.28  0.31  68.67         5.70        96   \n",
            "8    Middlesex  51.0  2.06   1.72  4.84  0.30  77.25        15.28        85   \n",
            "9    Nantucket  51.0  8.79   6.47  0.56  0.35  94.41        12.30        98   \n",
            "10     Norfolk  51.0  3.48   3.16  4.03  0.34  85.83        15.18        97   \n",
            "11    Plymouth  51.0  3.71   3.49  1.69  0.53  88.69        16.53        93   \n",
            "12     Suffolk  51.0  3.37   2.91  7.88  0.81  80.82        15.44        91   \n",
            "13   Worcester  51.0  0.66   0.61  2.10  0.08  80.82        14.04        98   \n",
            "\n",
            "    WindSpeed  HealthImpactClass  \n",
            "0       10.29                2.0  \n",
            "1        4.12                2.0  \n",
            "2        9.83                2.0  \n",
            "3       15.76                2.0  \n",
            "4        8.49                2.0  \n",
            "5        1.38                2.0  \n",
            "6        1.54                2.0  \n",
            "7        1.41                2.0  \n",
            "8        3.13                2.0  \n",
            "9       16.53                2.0  \n",
            "10       9.39                2.0  \n",
            "11       9.26                2.0  \n",
            "12       9.26                2.0  \n",
            "13       8.23                3.0  \n"
          ]
        }
      ],
      "source": [
        "import pandas as pd\n",
        "#AQI, PM10, PM2.5, NO2, SO2, O3, Temp, Humid, WindSpeed\n",
        "\n",
        "def process_data(counties):\n",
        "    data = []\n",
        "    for county, coords in counties.items():\n",
        "        air_quality = fetch_air_quality(coords['lat'], coords['lon'])\n",
        "        weather = fetch_weather(coords['lat'], coords['lon'])\n",
        "\n",
        "        # Extract relevant metrics\n",
        "        try:\n",
        "            aqi = air_quality[\"list\"][0][\"main\"][\"aqi\"]\n",
        "            pm10 = air_quality[\"list\"][0][\"components\"][\"pm10\"]\n",
        "            pm2_5 = air_quality[\"list\"][0][\"components\"][\"pm2_5\"]\n",
        "            no2 = air_quality[\"list\"][0][\"components\"][\"no2\"]\n",
        "            so2 = air_quality[\"list\"][0][\"components\"][\"so2\"]\n",
        "            o3 = air_quality[\"list\"][0][\"components\"][\"o3\"]\n",
        "            temp = weather[\"main\"][\"temp\"]\n",
        "            humidity = weather[\"main\"][\"humidity\"]\n",
        "            wind_speed = weather[\"wind\"][\"speed\"]\n",
        "\n",
        "            # Append data for ML processing\n",
        "            data.append({\n",
        "                \"county\": county,\n",
        "                \"AQI\": aqi,\n",
        "                \"PM10\": pm10,\n",
        "                \"PM2_5\": pm2_5,\n",
        "                \"NO2\": no2,\n",
        "                \"SO2\": so2,\n",
        "                \"O3\": o3,\n",
        "                \"Temperature\": temp,\n",
        "                \"Humidity\": humidity,\n",
        "                \"WindSpeed\": wind_speed\n",
        "            })\n",
        "        except KeyError:\n",
        "            print(f\"Error processing data for {county}\")\n",
        "\n",
        "    return pd.DataFrame(data)\n",
        "\n",
        "# Collect data\n",
        "county_data = process_data(counties)\n",
        "\n",
        "# Update the AQI column\n",
        "county_data['AQI'] = county_data['AQI'].apply(scale_aqi_to_us)\n",
        "\n",
        "\n",
        "county_data['HealthImpactClass'] = clf.predict(county_data.drop(columns=['county']))\n",
        "print(county_data)\n"
      ]
    },
    {
      "cell_type": "code",
      "execution_count": 12,
      "metadata": {
        "colab": {
          "base_uri": "https://localhost:8080/"
        },
        "id": "w0T1-Ey6WWVC",
        "outputId": "f6bc00f7-84a5-405e-8257-75870b830d75"
      },
      "outputs": [
        {
          "output_type": "stream",
          "name": "stdout",
          "text": [
            "Collecting plotly-geo\n",
            "  Downloading plotly_geo-1.0.0-py3-none-any.whl.metadata (834 bytes)\n",
            "Downloading plotly_geo-1.0.0-py3-none-any.whl (23.7 MB)\n",
            "\u001b[2K   \u001b[90m━━━━━━━━━━━━━━━━━━━━━━━━━━━━━━━━━━━━━━━━\u001b[0m \u001b[32m23.7/23.7 MB\u001b[0m \u001b[31m41.4 MB/s\u001b[0m eta \u001b[36m0:00:00\u001b[0m\n",
            "\u001b[?25hInstalling collected packages: plotly-geo\n",
            "Successfully installed plotly-geo-1.0.0\n"
          ]
        }
      ],
      "source": [
        "!pip install plotly-geo\n"
      ]
    },
    {
      "cell_type": "code",
      "execution_count": 14,
      "metadata": {
        "colab": {
          "base_uri": "https://localhost:8080/",
          "height": 542
        },
        "id": "43tP1WJHVleK",
        "outputId": "debc2bd2-24b5-4b98-c921-ff1eede8ad19"
      },
      "outputs": [
        {
          "output_type": "display_data",
          "data": {
            "text/html": [
              "<html>\n",
              "<head><meta charset=\"utf-8\" /></head>\n",
              "<body>\n",
              "    <div>            <script src=\"https://cdnjs.cloudflare.com/ajax/libs/mathjax/2.7.5/MathJax.js?config=TeX-AMS-MML_SVG\"></script><script type=\"text/javascript\">if (window.MathJax && window.MathJax.Hub && window.MathJax.Hub.Config) {window.MathJax.Hub.Config({SVG: {font: \"STIX-Web\"}});}</script>                <script type=\"text/javascript\">window.PlotlyConfig = {MathJaxConfig: 'local'};</script>\n",
              "        <script charset=\"utf-8\" src=\"https://cdn.plot.ly/plotly-2.35.2.min.js\"></script>                <div id=\"b9dd6967-30fc-4612-919b-8c6856a41564\" class=\"plotly-graph-div\" style=\"height:525px; width:100%;\"></div>            <script type=\"text/javascript\">                                    window.PLOTLYENV=window.PLOTLYENV || {};                                    if (document.getElementById(\"b9dd6967-30fc-4612-919b-8c6856a41564\")) {                    Plotly.newPlot(                        \"b9dd6967-30fc-4612-919b-8c6856a41564\",                        [{\"colorbar\":{\"ticktext\":[\"0\",\"1\",\"2\",\"3\",\"4\"],\"tickvals\":[0,1,2,3,4],\"title\":{\"text\":\"Health Impact\"}},\"colorscale\":[[0,\"#d7191c\"],[0.25,\"#fdae61\"],[0.5,\"#ffffbf\"],[0.75,\"#abdda4\"],[1,\"#2b83ba\"]],\"geojson\":\"https:\\u002f\\u002fraw.githubusercontent.com\\u002fplotly\\u002fdatasets\\u002fmaster\\u002fgeojson-counties-fips.json\",\"locations\":[\"25001\",\"25003\",\"25005\",\"25007\",\"25009\",\"25011\",\"25013\",\"25015\",\"25017\",\"25019\",\"25021\",\"25023\",\"25025\",\"25027\"],\"marker\":{\"line\":{\"width\":0.5}},\"z\":[2.0,2.0,2.0,2.0,2.0,2.0,2.0,2.0,2.0,2.0,2.0,2.0,2.0,3.0],\"type\":\"choropleth\"}],                        {\"template\":{\"data\":{\"histogram2dcontour\":[{\"type\":\"histogram2dcontour\",\"colorbar\":{\"outlinewidth\":0,\"ticks\":\"\"},\"colorscale\":[[0.0,\"#0d0887\"],[0.1111111111111111,\"#46039f\"],[0.2222222222222222,\"#7201a8\"],[0.3333333333333333,\"#9c179e\"],[0.4444444444444444,\"#bd3786\"],[0.5555555555555556,\"#d8576b\"],[0.6666666666666666,\"#ed7953\"],[0.7777777777777778,\"#fb9f3a\"],[0.8888888888888888,\"#fdca26\"],[1.0,\"#f0f921\"]]}],\"choropleth\":[{\"type\":\"choropleth\",\"colorbar\":{\"outlinewidth\":0,\"ticks\":\"\"}}],\"histogram2d\":[{\"type\":\"histogram2d\",\"colorbar\":{\"outlinewidth\":0,\"ticks\":\"\"},\"colorscale\":[[0.0,\"#0d0887\"],[0.1111111111111111,\"#46039f\"],[0.2222222222222222,\"#7201a8\"],[0.3333333333333333,\"#9c179e\"],[0.4444444444444444,\"#bd3786\"],[0.5555555555555556,\"#d8576b\"],[0.6666666666666666,\"#ed7953\"],[0.7777777777777778,\"#fb9f3a\"],[0.8888888888888888,\"#fdca26\"],[1.0,\"#f0f921\"]]}],\"heatmap\":[{\"type\":\"heatmap\",\"colorbar\":{\"outlinewidth\":0,\"ticks\":\"\"},\"colorscale\":[[0.0,\"#0d0887\"],[0.1111111111111111,\"#46039f\"],[0.2222222222222222,\"#7201a8\"],[0.3333333333333333,\"#9c179e\"],[0.4444444444444444,\"#bd3786\"],[0.5555555555555556,\"#d8576b\"],[0.6666666666666666,\"#ed7953\"],[0.7777777777777778,\"#fb9f3a\"],[0.8888888888888888,\"#fdca26\"],[1.0,\"#f0f921\"]]}],\"heatmapgl\":[{\"type\":\"heatmapgl\",\"colorbar\":{\"outlinewidth\":0,\"ticks\":\"\"},\"colorscale\":[[0.0,\"#0d0887\"],[0.1111111111111111,\"#46039f\"],[0.2222222222222222,\"#7201a8\"],[0.3333333333333333,\"#9c179e\"],[0.4444444444444444,\"#bd3786\"],[0.5555555555555556,\"#d8576b\"],[0.6666666666666666,\"#ed7953\"],[0.7777777777777778,\"#fb9f3a\"],[0.8888888888888888,\"#fdca26\"],[1.0,\"#f0f921\"]]}],\"contourcarpet\":[{\"type\":\"contourcarpet\",\"colorbar\":{\"outlinewidth\":0,\"ticks\":\"\"}}],\"contour\":[{\"type\":\"contour\",\"colorbar\":{\"outlinewidth\":0,\"ticks\":\"\"},\"colorscale\":[[0.0,\"#0d0887\"],[0.1111111111111111,\"#46039f\"],[0.2222222222222222,\"#7201a8\"],[0.3333333333333333,\"#9c179e\"],[0.4444444444444444,\"#bd3786\"],[0.5555555555555556,\"#d8576b\"],[0.6666666666666666,\"#ed7953\"],[0.7777777777777778,\"#fb9f3a\"],[0.8888888888888888,\"#fdca26\"],[1.0,\"#f0f921\"]]}],\"surface\":[{\"type\":\"surface\",\"colorbar\":{\"outlinewidth\":0,\"ticks\":\"\"},\"colorscale\":[[0.0,\"#0d0887\"],[0.1111111111111111,\"#46039f\"],[0.2222222222222222,\"#7201a8\"],[0.3333333333333333,\"#9c179e\"],[0.4444444444444444,\"#bd3786\"],[0.5555555555555556,\"#d8576b\"],[0.6666666666666666,\"#ed7953\"],[0.7777777777777778,\"#fb9f3a\"],[0.8888888888888888,\"#fdca26\"],[1.0,\"#f0f921\"]]}],\"mesh3d\":[{\"type\":\"mesh3d\",\"colorbar\":{\"outlinewidth\":0,\"ticks\":\"\"}}],\"scatter\":[{\"fillpattern\":{\"fillmode\":\"overlay\",\"size\":10,\"solidity\":0.2},\"type\":\"scatter\"}],\"parcoords\":[{\"type\":\"parcoords\",\"line\":{\"colorbar\":{\"outlinewidth\":0,\"ticks\":\"\"}}}],\"scatterpolargl\":[{\"type\":\"scatterpolargl\",\"marker\":{\"colorbar\":{\"outlinewidth\":0,\"ticks\":\"\"}}}],\"bar\":[{\"error_x\":{\"color\":\"#2a3f5f\"},\"error_y\":{\"color\":\"#2a3f5f\"},\"marker\":{\"line\":{\"color\":\"#E5ECF6\",\"width\":0.5},\"pattern\":{\"fillmode\":\"overlay\",\"size\":10,\"solidity\":0.2}},\"type\":\"bar\"}],\"scattergeo\":[{\"type\":\"scattergeo\",\"marker\":{\"colorbar\":{\"outlinewidth\":0,\"ticks\":\"\"}}}],\"scatterpolar\":[{\"type\":\"scatterpolar\",\"marker\":{\"colorbar\":{\"outlinewidth\":0,\"ticks\":\"\"}}}],\"histogram\":[{\"marker\":{\"pattern\":{\"fillmode\":\"overlay\",\"size\":10,\"solidity\":0.2}},\"type\":\"histogram\"}],\"scattergl\":[{\"type\":\"scattergl\",\"marker\":{\"colorbar\":{\"outlinewidth\":0,\"ticks\":\"\"}}}],\"scatter3d\":[{\"type\":\"scatter3d\",\"line\":{\"colorbar\":{\"outlinewidth\":0,\"ticks\":\"\"}},\"marker\":{\"colorbar\":{\"outlinewidth\":0,\"ticks\":\"\"}}}],\"scattermapbox\":[{\"type\":\"scattermapbox\",\"marker\":{\"colorbar\":{\"outlinewidth\":0,\"ticks\":\"\"}}}],\"scatterternary\":[{\"type\":\"scatterternary\",\"marker\":{\"colorbar\":{\"outlinewidth\":0,\"ticks\":\"\"}}}],\"scattercarpet\":[{\"type\":\"scattercarpet\",\"marker\":{\"colorbar\":{\"outlinewidth\":0,\"ticks\":\"\"}}}],\"carpet\":[{\"aaxis\":{\"endlinecolor\":\"#2a3f5f\",\"gridcolor\":\"white\",\"linecolor\":\"white\",\"minorgridcolor\":\"white\",\"startlinecolor\":\"#2a3f5f\"},\"baxis\":{\"endlinecolor\":\"#2a3f5f\",\"gridcolor\":\"white\",\"linecolor\":\"white\",\"minorgridcolor\":\"white\",\"startlinecolor\":\"#2a3f5f\"},\"type\":\"carpet\"}],\"table\":[{\"cells\":{\"fill\":{\"color\":\"#EBF0F8\"},\"line\":{\"color\":\"white\"}},\"header\":{\"fill\":{\"color\":\"#C8D4E3\"},\"line\":{\"color\":\"white\"}},\"type\":\"table\"}],\"barpolar\":[{\"marker\":{\"line\":{\"color\":\"#E5ECF6\",\"width\":0.5},\"pattern\":{\"fillmode\":\"overlay\",\"size\":10,\"solidity\":0.2}},\"type\":\"barpolar\"}],\"pie\":[{\"automargin\":true,\"type\":\"pie\"}]},\"layout\":{\"autotypenumbers\":\"strict\",\"colorway\":[\"#636efa\",\"#EF553B\",\"#00cc96\",\"#ab63fa\",\"#FFA15A\",\"#19d3f3\",\"#FF6692\",\"#B6E880\",\"#FF97FF\",\"#FECB52\"],\"font\":{\"color\":\"#2a3f5f\"},\"hovermode\":\"closest\",\"hoverlabel\":{\"align\":\"left\"},\"paper_bgcolor\":\"white\",\"plot_bgcolor\":\"#E5ECF6\",\"polar\":{\"bgcolor\":\"#E5ECF6\",\"angularaxis\":{\"gridcolor\":\"white\",\"linecolor\":\"white\",\"ticks\":\"\"},\"radialaxis\":{\"gridcolor\":\"white\",\"linecolor\":\"white\",\"ticks\":\"\"}},\"ternary\":{\"bgcolor\":\"#E5ECF6\",\"aaxis\":{\"gridcolor\":\"white\",\"linecolor\":\"white\",\"ticks\":\"\"},\"baxis\":{\"gridcolor\":\"white\",\"linecolor\":\"white\",\"ticks\":\"\"},\"caxis\":{\"gridcolor\":\"white\",\"linecolor\":\"white\",\"ticks\":\"\"}},\"coloraxis\":{\"colorbar\":{\"outlinewidth\":0,\"ticks\":\"\"}},\"colorscale\":{\"sequential\":[[0.0,\"#0d0887\"],[0.1111111111111111,\"#46039f\"],[0.2222222222222222,\"#7201a8\"],[0.3333333333333333,\"#9c179e\"],[0.4444444444444444,\"#bd3786\"],[0.5555555555555556,\"#d8576b\"],[0.6666666666666666,\"#ed7953\"],[0.7777777777777778,\"#fb9f3a\"],[0.8888888888888888,\"#fdca26\"],[1.0,\"#f0f921\"]],\"sequentialminus\":[[0.0,\"#0d0887\"],[0.1111111111111111,\"#46039f\"],[0.2222222222222222,\"#7201a8\"],[0.3333333333333333,\"#9c179e\"],[0.4444444444444444,\"#bd3786\"],[0.5555555555555556,\"#d8576b\"],[0.6666666666666666,\"#ed7953\"],[0.7777777777777778,\"#fb9f3a\"],[0.8888888888888888,\"#fdca26\"],[1.0,\"#f0f921\"]],\"diverging\":[[0,\"#8e0152\"],[0.1,\"#c51b7d\"],[0.2,\"#de77ae\"],[0.3,\"#f1b6da\"],[0.4,\"#fde0ef\"],[0.5,\"#f7f7f7\"],[0.6,\"#e6f5d0\"],[0.7,\"#b8e186\"],[0.8,\"#7fbc41\"],[0.9,\"#4d9221\"],[1,\"#276419\"]]},\"xaxis\":{\"gridcolor\":\"white\",\"linecolor\":\"white\",\"ticks\":\"\",\"title\":{\"standoff\":15},\"zerolinecolor\":\"white\",\"automargin\":true,\"zerolinewidth\":2},\"yaxis\":{\"gridcolor\":\"white\",\"linecolor\":\"white\",\"ticks\":\"\",\"title\":{\"standoff\":15},\"zerolinecolor\":\"white\",\"automargin\":true,\"zerolinewidth\":2},\"scene\":{\"xaxis\":{\"backgroundcolor\":\"#E5ECF6\",\"gridcolor\":\"white\",\"linecolor\":\"white\",\"showbackground\":true,\"ticks\":\"\",\"zerolinecolor\":\"white\",\"gridwidth\":2},\"yaxis\":{\"backgroundcolor\":\"#E5ECF6\",\"gridcolor\":\"white\",\"linecolor\":\"white\",\"showbackground\":true,\"ticks\":\"\",\"zerolinecolor\":\"white\",\"gridwidth\":2},\"zaxis\":{\"backgroundcolor\":\"#E5ECF6\",\"gridcolor\":\"white\",\"linecolor\":\"white\",\"showbackground\":true,\"ticks\":\"\",\"zerolinecolor\":\"white\",\"gridwidth\":2}},\"shapedefaults\":{\"line\":{\"color\":\"#2a3f5f\"}},\"annotationdefaults\":{\"arrowcolor\":\"#2a3f5f\",\"arrowhead\":0,\"arrowwidth\":1},\"geo\":{\"bgcolor\":\"white\",\"landcolor\":\"#E5ECF6\",\"subunitcolor\":\"white\",\"showland\":true,\"showlakes\":true,\"lakecolor\":\"white\"},\"title\":{\"x\":0.05},\"mapbox\":{\"style\":\"light\"}}},\"title\":{\"text\":\"Air Health Class by County in Massachusetts\"},\"geo\":{\"projection\":{\"type\":\"albers usa\"},\"center\":{\"lat\":42.4072,\"lon\":-71.3824},\"scope\":\"usa\",\"fitbounds\":\"locations\"}},                        {\"responsive\": true}                    ).then(function(){\n",
              "                            \n",
              "var gd = document.getElementById('b9dd6967-30fc-4612-919b-8c6856a41564');\n",
              "var x = new MutationObserver(function (mutations, observer) {{\n",
              "        var display = window.getComputedStyle(gd).display;\n",
              "        if (!display || display === 'none') {{\n",
              "            console.log([gd, 'removed!']);\n",
              "            Plotly.purge(gd);\n",
              "            observer.disconnect();\n",
              "        }}\n",
              "}});\n",
              "\n",
              "// Listen for the removal of the full notebook cells\n",
              "var notebookContainer = gd.closest('#notebook-container');\n",
              "if (notebookContainer) {{\n",
              "    x.observe(notebookContainer, {childList: true});\n",
              "}}\n",
              "\n",
              "// Listen for the clearing of the current output cell\n",
              "var outputEl = gd.closest('.output');\n",
              "if (outputEl) {{\n",
              "    x.observe(outputEl, {childList: true});\n",
              "}}\n",
              "\n",
              "                        })                };                            </script>        </div>\n",
              "</body>\n",
              "</html>"
            ]
          },
          "metadata": {}
        }
      ],
      "source": [
        "from itertools import count\n",
        "import plotly.graph_objects as go\n",
        "\n",
        "# Example: Add FIPS codes to the `county_data` DataFrame\n",
        "fips_codes = {\n",
        "    \"Barnstable\": \"25001\",\n",
        "    \"Berkshire\": \"25003\",\n",
        "    \"Bristol\": \"25005\",\n",
        "    \"Dukes\": \"25007\",\n",
        "    \"Essex\": \"25009\",\n",
        "    \"Franklin\": \"25011\",\n",
        "    \"Hampden\": \"25013\",\n",
        "    \"Hampshire\": \"25015\",\n",
        "    \"Middlesex\": \"25017\",\n",
        "    \"Nantucket\": \"25019\",\n",
        "    \"Norfolk\": \"25021\",\n",
        "    \"Plymouth\": \"25023\",\n",
        "    \"Suffolk\": \"25025\",\n",
        "    \"Worcester\": \"25027\"\n",
        "\n",
        "}\n",
        "\n",
        "# Map FIPS codes to county_data\n",
        "county_data['FIPS'] = county_data['county'].map(fips_codes)\n",
        "\n",
        "# Prepare data for the map\n",
        "values = county_data['HealthImpactClass'].tolist()\n",
        "fips = county_data['FIPS'].tolist()\n",
        "\n",
        "# Classification descriptions\n",
        "class_descriptions = {\n",
        "    0: \"Very High\",\n",
        "    1: \"High\",\n",
        "    2: \"Moderate\",\n",
        "    3: \"Low\",\n",
        "    4: \"Very Low\"\n",
        "}\n",
        "\n",
        "# Add hover text column\n",
        "\n",
        "\n",
        "# Create the choropleth map\n",
        "fig = go.Figure(go.Choropleth(\n",
        "    geojson=\"https://raw.githubusercontent.com/plotly/datasets/master/geojson-counties-fips.json\",\n",
        "    locations=fips,  # FIPS codes\n",
        "    z=values,  # Data to map\n",
        "    colorscale=[[0, \"#d7191c\"], [0.25, \"#fdae61\"], [0.5, \"#ffffbf\"], [0.75, \"#abdda4\"], [1, \"#2b83ba\"]],\n",
        "    colorbar_title=\"Health Impact\",\n",
        "    marker_line_width=0.5,\n",
        "    colorbar=dict(\n",
        "        title=\"Health Impact\",\n",
        "        tickvals=[0, 1, 2, 3, 4],  # Specify exact tick positions\n",
        "        ticktext=[\"0\", \"1\", \"2\", \"3\", \"4\"],  # Labels for the ticks\n",
        "    )\n",
        "\n",
        "))\n",
        "\n",
        "# Update layout to focus on Massachusetts\n",
        "fig.update_layout(\n",
        "    title_text=\"Air Health Class by County in Massachusetts\",\n",
        "    geo=dict(\n",
        "        scope=\"usa\",\n",
        "        projection_type=\"albers usa\",\n",
        "        center={\"lat\": 42.4072, \"lon\": -71.3824},  # Center on Massachusetts\n",
        "        # Change center to be on Worcester County\n",
        "        fitbounds=\"locations\"\n",
        "\n",
        "    )\n",
        ")\n",
        "\n",
        "fig.show()\n"
      ]
    }
  ],
  "metadata": {
    "colab": {
      "provenance": []
    },
    "kernelspec": {
      "display_name": "base",
      "language": "python",
      "name": "python3"
    },
    "language_info": {
      "codemirror_mode": {
        "name": "ipython",
        "version": 3
      },
      "file_extension": ".py",
      "mimetype": "text/x-python",
      "name": "python",
      "nbconvert_exporter": "python",
      "pygments_lexer": "ipython3",
      "version": "3.9.12"
    }
  },
  "nbformat": 4,
  "nbformat_minor": 0
}